{
  "nbformat": 4,
  "nbformat_minor": 0,
  "metadata": {
    "colab": {
      "provenance": []
    },
    "kernelspec": {
      "name": "python3",
      "display_name": "Python 3"
    },
    "language_info": {
      "name": "python"
    }
  },
  "cells": [
    {
      "cell_type": "code",
      "source": [
        "import pandas as pd\n",
        "from sklearn.model_selection import train_test_split\n",
        "from sklearn.preprocessing import StandardScaler, OneHotEncoder\n",
        "from sklearn.compose import ColumnTransformer\n",
        "from sklearn.pipeline import Pipeline\n",
        "from sklearn.ensemble import RandomForestRegressor\n",
        "from sklearn.metrics import mean_squared_error, r2_score\n",
        "\n",
        "\n",
        "# Load the dataset\n",
        "data = pd.read_csv('Dataset .csv')\n",
        "print(data.head())"
      ],
      "metadata": {
        "colab": {
          "base_uri": "https://localhost:8080/"
        },
        "id": "_ArY95GZAitR",
        "outputId": "2ba4799a-5130-41ad-ac4f-ed2f5ad6ea38"
      },
      "execution_count": null,
      "outputs": [
        {
          "output_type": "stream",
          "name": "stdout",
          "text": [
            "   Restaurant ID         Restaurant Name  Country Code              City  \\\n",
            "0        6317637        Le Petit Souffle           162       Makati City   \n",
            "1        6304287        Izakaya Kikufuji           162       Makati City   \n",
            "2        6300002  Heat - Edsa Shangri-La           162  Mandaluyong City   \n",
            "3        6318506                    Ooma           162  Mandaluyong City   \n",
            "4        6314302             Sambo Kojin           162  Mandaluyong City   \n",
            "\n",
            "                                             Address  \\\n",
            "0  Third Floor, Century City Mall, Kalayaan Avenu...   \n",
            "1  Little Tokyo, 2277 Chino Roces Avenue, Legaspi...   \n",
            "2  Edsa Shangri-La, 1 Garden Way, Ortigas, Mandal...   \n",
            "3  Third Floor, Mega Fashion Hall, SM Megamall, O...   \n",
            "4  Third Floor, Mega Atrium, SM Megamall, Ortigas...   \n",
            "\n",
            "                                     Locality  \\\n",
            "0   Century City Mall, Poblacion, Makati City   \n",
            "1  Little Tokyo, Legaspi Village, Makati City   \n",
            "2  Edsa Shangri-La, Ortigas, Mandaluyong City   \n",
            "3      SM Megamall, Ortigas, Mandaluyong City   \n",
            "4      SM Megamall, Ortigas, Mandaluyong City   \n",
            "\n",
            "                                    Locality Verbose   Longitude   Latitude  \\\n",
            "0  Century City Mall, Poblacion, Makati City, Mak...  121.027535  14.565443   \n",
            "1  Little Tokyo, Legaspi Village, Makati City, Ma...  121.014101  14.553708   \n",
            "2  Edsa Shangri-La, Ortigas, Mandaluyong City, Ma...  121.056831  14.581404   \n",
            "3  SM Megamall, Ortigas, Mandaluyong City, Mandal...  121.056475  14.585318   \n",
            "4  SM Megamall, Ortigas, Mandaluyong City, Mandal...  121.057508  14.584450   \n",
            "\n",
            "                           Cuisines  ...          Currency Has Table booking  \\\n",
            "0        French, Japanese, Desserts  ...  Botswana Pula(P)               Yes   \n",
            "1                          Japanese  ...  Botswana Pula(P)               Yes   \n",
            "2  Seafood, Asian, Filipino, Indian  ...  Botswana Pula(P)               Yes   \n",
            "3                   Japanese, Sushi  ...  Botswana Pula(P)                No   \n",
            "4                  Japanese, Korean  ...  Botswana Pula(P)               Yes   \n",
            "\n",
            "  Has Online delivery Is delivering now Switch to order menu Price range  \\\n",
            "0                  No                No                   No           3   \n",
            "1                  No                No                   No           3   \n",
            "2                  No                No                   No           4   \n",
            "3                  No                No                   No           4   \n",
            "4                  No                No                   No           4   \n",
            "\n",
            "   Aggregate rating  Rating color Rating text Votes  \n",
            "0               4.8    Dark Green   Excellent   314  \n",
            "1               4.5    Dark Green   Excellent   591  \n",
            "2               4.4         Green   Very Good   270  \n",
            "3               4.9    Dark Green   Excellent   365  \n",
            "4               4.8    Dark Green   Excellent   229  \n",
            "\n",
            "[5 rows x 21 columns]\n"
          ]
        }
      ]
    },
    {
      "cell_type": "code",
      "source": [
        "# Feature selection: Exclude 'Cuisines' and 'Rating color' columns\n",
        "features = data.drop(columns=['Votes', 'Cuisines'])\n",
        "target = data['Aggregate rating']\n",
        "\n",
        "# Splitting the data into training and testing sets\n",
        "X_train, X_test, y_train, y_test = train_test_split(features, target, test_size=0.2, random_state=42)\n",
        "\n",
        "# Identify categorical and numerical columns\n",
        "categorical_columns = ['Has Table booking', 'Has Online delivery', 'Is delivering now', 'Switch to order menu',\n",
        "                       'Rating color', 'Rating text']\n",
        "numerical_columns = ['Average Cost for two', 'Price range']"
      ],
      "metadata": {
        "id": "GPtvlxv8B_kj"
      },
      "execution_count": null,
      "outputs": []
    },
    {
      "cell_type": "code",
      "source": [
        "# Swapping 'Yes' with 'No' and 'No' with 'Yes' in the relevant columns\n",
        "X_train_swapped = X_train.copy()  # Make a copy of the original data\n",
        "\n",
        "# Columns to swap values for\n",
        "swap_columns = ['Has Table booking', 'Has Online delivery', 'Is delivering now', 'Switch to order menu']\n",
        "\n",
        "# Replace 'Yes' with 'No' and 'No' with 'Yes'\n",
        "X_train_swapped[swap_columns] = X_train_swapped[swap_columns].replace({'Yes': 'No', 'No': 'Yes'})\n"
      ],
      "metadata": {
        "id": "HLz1UyBawhyP"
      },
      "execution_count": null,
      "outputs": []
    },
    {
      "cell_type": "code",
      "source": [
        "# Create a column transformer for preprocessing\n",
        "preprocessor = ColumnTransformer(\n",
        "    transformers=[\n",
        "        ('num', StandardScaler(), numerical_columns),\n",
        "        ('cat', OneHotEncoder(drop='first', handle_unknown='ignore'), categorical_columns)  # Handle unknown categories\n",
        "    ]\n",
        ")\n",
        "\n",
        "# Create the pipeline with the preprocessor and the regressor\n",
        "pipeline = Pipeline(steps=[\n",
        "    ('preprocessor', preprocessor),\n",
        "    ('regressor', RandomForestRegressor(random_state=42))\n",
        "])\n"
      ],
      "metadata": {
        "id": "uXXTItQNDD5R"
      },
      "execution_count": null,
      "outputs": []
    },
    {
      "cell_type": "code",
      "source": [
        "# Re-train the model on the swapped dataset\n",
        "pipeline.fit(X_train_swapped, y_train)\n",
        "\n",
        "# Make predictions\n",
        "y_pred = pipeline.predict(X_test)\n"
      ],
      "metadata": {
        "id": "KBYooI7TDMxq",
        "colab": {
          "base_uri": "https://localhost:8080/"
        },
        "outputId": "4323923f-f691-42e7-dbc0-39ea5427f5ec"
      },
      "execution_count": null,
      "outputs": [
        {
          "output_type": "stream",
          "name": "stderr",
          "text": [
            "/usr/local/lib/python3.10/dist-packages/sklearn/preprocessing/_encoders.py:242: UserWarning: Found unknown categories in columns [3] during transform. These unknown categories will be encoded as all zeros\n",
            "  warnings.warn(\n"
          ]
        }
      ]
    },
    {
      "cell_type": "code",
      "source": [
        "# Evaluate the model\n",
        "mse = mean_squared_error(y_test, y_pred)\n",
        "r2 = r2_score(y_test, y_pred)\n",
        "\n",
        "print(f'Mean Squared Error: {mse:.2f}')\n",
        "print(f'R^2 Score: {r2:.2f}')\n"
      ],
      "metadata": {
        "colab": {
          "base_uri": "https://localhost:8080/"
        },
        "id": "Bdoz8WQtLgqQ",
        "outputId": "e3bee3b8-96b7-4b48-8ba9-70825989bee1"
      },
      "execution_count": null,
      "outputs": [
        {
          "output_type": "stream",
          "name": "stdout",
          "text": [
            "Mean Squared Error: 0.04\n",
            "R^2 Score: 0.98\n"
          ]
        }
      ]
    },
    {
      "cell_type": "code",
      "source": [
        "# Example for predicting a full star rating restaurant (with all ideal inputs)\n",
        "full_star_restaurant = pd.DataFrame({\n",
        "    'Average Cost for two': [100],  # Higher cost implies luxury or better services\n",
        "    'Price range': [2],  # The highest price range\n",
        "    'Has Table booking': ['No'],  # Yes, indicating a higher level of service\n",
        "    'Has Online delivery': ['No'],  # Yes, indicating a higher level of convenience\n",
        "    'Is delivering now': ['No'],  # Yes, as it enhances customer satisfaction\n",
        "    'Switch to order menu': ['Yes'],  # Yes, indicating a comprehensive service\n",
        "    'Rating color': ['Green'],\n",
        "    'Rating text': ['Poor']  # Best rating text category\n",
        "})\n",
        "\n",
        "# Predict rating for the full-star restaurant using the pipeline\n",
        "predicted_full_star_rating = pipeline.predict(full_star_restaurant)\n",
        "print(f'Predicted rating for the full-star restaurant: {predicted_full_star_rating[0]:.2f}')\n"
      ],
      "metadata": {
        "colab": {
          "base_uri": "https://localhost:8080/"
        },
        "id": "8uI9-H2CrLNH",
        "outputId": "5b78c325-abc3-43b6-ab77-a3b56ddfa4ac"
      },
      "execution_count": null,
      "outputs": [
        {
          "output_type": "stream",
          "name": "stdout",
          "text": [
            "Predicted rating for the full-star restaurant: 3.30\n"
          ]
        }
      ]
    }
  ]
}